{
 "cells": [
  {
   "cell_type": "markdown",
   "metadata": {},
   "source": [
    "# _EXPLORATORY DATA ANALYSIS OF AN E-COMMERCE SALES DATA:_\n",
    "\n",
    "## Our Objective is to analyze the data of an E-commerce company and give inference regarding the sale of its products\n",
    " "
   ]
  },
  {
   "cell_type": "markdown",
   "metadata": {},
   "source": [
    "## 1.Loading Packages, Setting up Working Directory and Reading the Dataset:"
   ]
  },
  {
   "cell_type": "code",
   "execution_count": 24,
   "metadata": {},
   "outputs": [],
   "source": [
    "# Importing Required modules\n",
    "import pandas as pd\n",
    "import numpy as np\n",
    "import matplotlib.pyplot as plt\n",
    "%matplotlib inline"
   ]
  },
  {
   "cell_type": "code",
   "execution_count": 25,
   "metadata": {},
   "outputs": [],
   "source": [
    "# Reading CSV file\n",
    "df=pd.read_csv(\"D:\\\\DATA SCIENCE\\\\PROJECTS\\\\PROJECT2\\\\case_study.csv\")"
   ]
  },
  {
   "cell_type": "code",
   "execution_count": 26,
   "metadata": {},
   "outputs": [
    {
     "data": {
      "text/html": [
       "<div>\n",
       "<style scoped>\n",
       "    .dataframe tbody tr th:only-of-type {\n",
       "        vertical-align: middle;\n",
       "    }\n",
       "\n",
       "    .dataframe tbody tr th {\n",
       "        vertical-align: top;\n",
       "    }\n",
       "\n",
       "    .dataframe thead th {\n",
       "        text-align: right;\n",
       "    }\n",
       "</style>\n",
       "<table border=\"1\" class=\"dataframe\">\n",
       "  <thead>\n",
       "    <tr style=\"text-align: right;\">\n",
       "      <th></th>\n",
       "      <th>Cust Id</th>\n",
       "      <th>Months Since Last Buy</th>\n",
       "      <th>Spend Numeric</th>\n",
       "      <th>Mens Merchandise</th>\n",
       "      <th>Womens Merchandise</th>\n",
       "      <th>New Customer</th>\n",
       "      <th>Visited Website</th>\n",
       "      <th>Sale Made</th>\n",
       "    </tr>\n",
       "  </thead>\n",
       "  <tbody>\n",
       "    <tr>\n",
       "      <th>count</th>\n",
       "      <td>1747.000000</td>\n",
       "      <td>1747.000000</td>\n",
       "      <td>1747.000000</td>\n",
       "      <td>1747.000000</td>\n",
       "      <td>1747.000000</td>\n",
       "      <td>1747.000000</td>\n",
       "      <td>1747.000000</td>\n",
       "      <td>1747.000000</td>\n",
       "    </tr>\n",
       "    <tr>\n",
       "      <th>mean</th>\n",
       "      <td>995.552948</td>\n",
       "      <td>5.072124</td>\n",
       "      <td>253.184637</td>\n",
       "      <td>0.575272</td>\n",
       "      <td>0.550086</td>\n",
       "      <td>0.507728</td>\n",
       "      <td>0.291929</td>\n",
       "      <td>0.218088</td>\n",
       "    </tr>\n",
       "    <tr>\n",
       "      <th>std</th>\n",
       "      <td>581.065601</td>\n",
       "      <td>3.178979</td>\n",
       "      <td>271.166455</td>\n",
       "      <td>0.494443</td>\n",
       "      <td>0.497628</td>\n",
       "      <td>0.500083</td>\n",
       "      <td>0.454780</td>\n",
       "      <td>0.413066</td>\n",
       "    </tr>\n",
       "    <tr>\n",
       "      <th>min</th>\n",
       "      <td>1.000000</td>\n",
       "      <td>1.000000</td>\n",
       "      <td>29.990000</td>\n",
       "      <td>0.000000</td>\n",
       "      <td>0.000000</td>\n",
       "      <td>0.000000</td>\n",
       "      <td>0.000000</td>\n",
       "      <td>0.000000</td>\n",
       "    </tr>\n",
       "    <tr>\n",
       "      <th>25%</th>\n",
       "      <td>494.000000</td>\n",
       "      <td>2.000000</td>\n",
       "      <td>63.110000</td>\n",
       "      <td>0.000000</td>\n",
       "      <td>0.000000</td>\n",
       "      <td>0.000000</td>\n",
       "      <td>0.000000</td>\n",
       "      <td>0.000000</td>\n",
       "    </tr>\n",
       "    <tr>\n",
       "      <th>50%</th>\n",
       "      <td>992.000000</td>\n",
       "      <td>5.000000</td>\n",
       "      <td>165.880000</td>\n",
       "      <td>1.000000</td>\n",
       "      <td>1.000000</td>\n",
       "      <td>1.000000</td>\n",
       "      <td>0.000000</td>\n",
       "      <td>0.000000</td>\n",
       "    </tr>\n",
       "    <tr>\n",
       "      <th>75%</th>\n",
       "      <td>1484.500000</td>\n",
       "      <td>8.000000</td>\n",
       "      <td>342.355000</td>\n",
       "      <td>1.000000</td>\n",
       "      <td>1.000000</td>\n",
       "      <td>1.000000</td>\n",
       "      <td>1.000000</td>\n",
       "      <td>0.000000</td>\n",
       "    </tr>\n",
       "    <tr>\n",
       "      <th>max</th>\n",
       "      <td>2064.000000</td>\n",
       "      <td>12.000000</td>\n",
       "      <td>2141.120000</td>\n",
       "      <td>1.000000</td>\n",
       "      <td>1.000000</td>\n",
       "      <td>1.000000</td>\n",
       "      <td>1.000000</td>\n",
       "      <td>1.000000</td>\n",
       "    </tr>\n",
       "  </tbody>\n",
       "</table>\n",
       "</div>"
      ],
      "text/plain": [
       "           Cust Id  Months Since Last Buy  Spend Numeric  Mens Merchandise  \\\n",
       "count  1747.000000            1747.000000    1747.000000       1747.000000   \n",
       "mean    995.552948               5.072124     253.184637          0.575272   \n",
       "std     581.065601               3.178979     271.166455          0.494443   \n",
       "min       1.000000               1.000000      29.990000          0.000000   \n",
       "25%     494.000000               2.000000      63.110000          0.000000   \n",
       "50%     992.000000               5.000000     165.880000          1.000000   \n",
       "75%    1484.500000               8.000000     342.355000          1.000000   \n",
       "max    2064.000000              12.000000    2141.120000          1.000000   \n",
       "\n",
       "       Womens Merchandise  New Customer  Visited Website    Sale Made  \n",
       "count         1747.000000   1747.000000      1747.000000  1747.000000  \n",
       "mean             0.550086      0.507728         0.291929     0.218088  \n",
       "std              0.497628      0.500083         0.454780     0.413066  \n",
       "min              0.000000      0.000000         0.000000     0.000000  \n",
       "25%              0.000000      0.000000         0.000000     0.000000  \n",
       "50%              1.000000      1.000000         0.000000     0.000000  \n",
       "75%              1.000000      1.000000         1.000000     0.000000  \n",
       "max              1.000000      1.000000         1.000000     1.000000  "
      ]
     },
     "execution_count": 26,
     "metadata": {},
     "output_type": "execute_result"
    }
   ],
   "source": [
    "#Displaying Statistical Summary of Obtained Data\n",
    "df.describe()\n"
   ]
  },
  {
   "cell_type": "markdown",
   "metadata": {},
   "source": [
    "## _2. EXPLORATORY DATA ANAYSIS (EDA):_"
   ]
  },
  {
   "cell_type": "markdown",
   "metadata": {},
   "source": [
    "### After checking the dataset, we can now proceed to explore data and analyze the attributes. The following data explorations are carried and observations recorded.\n",
    "\n"
   ]
  },
  {
   "cell_type": "markdown",
   "metadata": {},
   "source": [
    "## 1.PIE CHARTS:"
   ]
  },
  {
   "cell_type": "markdown",
   "metadata": {},
   "source": [
    "## _1.CUSTOMER BY AREA:_"
   ]
  },
  {
   "cell_type": "code",
   "execution_count": 27,
   "metadata": {},
   "outputs": [
    {
     "data": {
      "text/html": [
       "<div>\n",
       "<style scoped>\n",
       "    .dataframe tbody tr th:only-of-type {\n",
       "        vertical-align: middle;\n",
       "    }\n",
       "\n",
       "    .dataframe tbody tr th {\n",
       "        vertical-align: top;\n",
       "    }\n",
       "\n",
       "    .dataframe thead th {\n",
       "        text-align: right;\n",
       "    }\n",
       "</style>\n",
       "<table border=\"1\" class=\"dataframe\">\n",
       "  <thead>\n",
       "    <tr style=\"text-align: right;\">\n",
       "      <th></th>\n",
       "      <th>Cust Id</th>\n",
       "      <th>Months Since Last Buy</th>\n",
       "      <th>Spend Category</th>\n",
       "      <th>Spend Numeric</th>\n",
       "      <th>Mens Merchandise</th>\n",
       "      <th>Womens Merchandise</th>\n",
       "      <th>New Customer</th>\n",
       "      <th>Purchase Channel</th>\n",
       "      <th>Visited Website</th>\n",
       "      <th>Sale Made</th>\n",
       "    </tr>\n",
       "    <tr>\n",
       "      <th>Area</th>\n",
       "      <th></th>\n",
       "      <th></th>\n",
       "      <th></th>\n",
       "      <th></th>\n",
       "      <th></th>\n",
       "      <th></th>\n",
       "      <th></th>\n",
       "      <th></th>\n",
       "      <th></th>\n",
       "      <th></th>\n",
       "    </tr>\n",
       "  </thead>\n",
       "  <tbody>\n",
       "    <tr>\n",
       "      <th>Rural</th>\n",
       "      <td>266</td>\n",
       "      <td>266</td>\n",
       "      <td>266</td>\n",
       "      <td>266</td>\n",
       "      <td>266</td>\n",
       "      <td>266</td>\n",
       "      <td>266</td>\n",
       "      <td>266</td>\n",
       "      <td>266</td>\n",
       "      <td>266</td>\n",
       "    </tr>\n",
       "    <tr>\n",
       "      <th>Surburban</th>\n",
       "      <td>786</td>\n",
       "      <td>786</td>\n",
       "      <td>786</td>\n",
       "      <td>786</td>\n",
       "      <td>786</td>\n",
       "      <td>786</td>\n",
       "      <td>786</td>\n",
       "      <td>786</td>\n",
       "      <td>786</td>\n",
       "      <td>786</td>\n",
       "    </tr>\n",
       "    <tr>\n",
       "      <th>Urban</th>\n",
       "      <td>691</td>\n",
       "      <td>691</td>\n",
       "      <td>691</td>\n",
       "      <td>691</td>\n",
       "      <td>691</td>\n",
       "      <td>691</td>\n",
       "      <td>691</td>\n",
       "      <td>691</td>\n",
       "      <td>691</td>\n",
       "      <td>691</td>\n",
       "    </tr>\n",
       "  </tbody>\n",
       "</table>\n",
       "</div>"
      ],
      "text/plain": [
       "           Cust Id  Months Since Last Buy  Spend Category  Spend Numeric  \\\n",
       "Area                                                                       \n",
       "Rural          266                    266             266            266   \n",
       "Surburban      786                    786             786            786   \n",
       "Urban          691                    691             691            691   \n",
       "\n",
       "           Mens Merchandise  Womens Merchandise  New Customer  \\\n",
       "Area                                                            \n",
       "Rural                   266                 266           266   \n",
       "Surburban               786                 786           786   \n",
       "Urban                   691                 691           691   \n",
       "\n",
       "           Purchase Channel  Visited Website  Sale Made  \n",
       "Area                                                     \n",
       "Rural                   266              266        266  \n",
       "Surburban               786              786        786  \n",
       "Urban                   691              691        691  "
      ]
     },
     "execution_count": 27,
     "metadata": {},
     "output_type": "execute_result"
    }
   ],
   "source": [
    "#Making a new dataframe by applying Groupby function according to Area \n",
    "df_ar=df.groupby([\"Area\"])\n",
    "df_ar.count()"
   ]
  },
  {
   "cell_type": "code",
   "execution_count": 28,
   "metadata": {},
   "outputs": [
    {
     "data": {
      "image/png": "[encoded data removed]",
      "text/plain": [
       "<Figure size 576x576 with 1 Axes>"
      ]
     },
     "metadata": {},
     "output_type": "display_data"
    }
   ],
   "source": [
    "# Code for construction of Pie Chart of Customer By Area\n",
    "plt.figure(figsize=(8,8))\n",
    "plt.title(\"CUSTOMER BY AREA\")\n",
    "plt.pie(df_ar.count()[\"Cust Id\"], labels = {\"RURAL\":1,\"SURBURBAN\":2,\"URBAN\":3}, autopct = \"%1.1f%%\")\n",
    "plt.show()"
   ]
  },
  {
   "cell_type": "markdown",
   "metadata": {},
   "source": [
    "### _OBSERVATIONS:_ The dataset contains large set of surburban customer segment. Smallest set of rural customers."
   ]
  },
  {
   "cell_type": "markdown",
   "metadata": {},
   "source": [
    "## _2.NEW AND OLD CUSTOMER:_"
   ]
  },
  {
   "cell_type": "code",
   "execution_count": 29,
   "metadata": {},
   "outputs": [
    {
     "data": {
      "text/html": [
       "<div>\n",
       "<style scoped>\n",
       "    .dataframe tbody tr th:only-of-type {\n",
       "        vertical-align: middle;\n",
       "    }\n",
       "\n",
       "    .dataframe tbody tr th {\n",
       "        vertical-align: top;\n",
       "    }\n",
       "\n",
       "    .dataframe thead th {\n",
       "        text-align: right;\n",
       "    }\n",
       "</style>\n",
       "<table border=\"1\" class=\"dataframe\">\n",
       "  <thead>\n",
       "    <tr style=\"text-align: right;\">\n",
       "      <th></th>\n",
       "      <th>Cust Id</th>\n",
       "      <th>Months Since Last Buy</th>\n",
       "      <th>Spend Category</th>\n",
       "      <th>Spend Numeric</th>\n",
       "      <th>Mens Merchandise</th>\n",
       "      <th>Womens Merchandise</th>\n",
       "      <th>Area</th>\n",
       "      <th>Purchase Channel</th>\n",
       "      <th>Visited Website</th>\n",
       "      <th>Sale Made</th>\n",
       "    </tr>\n",
       "    <tr>\n",
       "      <th>New Customer</th>\n",
       "      <th></th>\n",
       "      <th></th>\n",
       "      <th></th>\n",
       "      <th></th>\n",
       "      <th></th>\n",
       "      <th></th>\n",
       "      <th></th>\n",
       "      <th></th>\n",
       "      <th></th>\n",
       "      <th></th>\n",
       "    </tr>\n",
       "  </thead>\n",
       "  <tbody>\n",
       "    <tr>\n",
       "      <th>0</th>\n",
       "      <td>860</td>\n",
       "      <td>860</td>\n",
       "      <td>860</td>\n",
       "      <td>860</td>\n",
       "      <td>860</td>\n",
       "      <td>860</td>\n",
       "      <td>858</td>\n",
       "      <td>860</td>\n",
       "      <td>860</td>\n",
       "      <td>860</td>\n",
       "    </tr>\n",
       "    <tr>\n",
       "      <th>1</th>\n",
       "      <td>887</td>\n",
       "      <td>887</td>\n",
       "      <td>887</td>\n",
       "      <td>887</td>\n",
       "      <td>887</td>\n",
       "      <td>887</td>\n",
       "      <td>885</td>\n",
       "      <td>887</td>\n",
       "      <td>887</td>\n",
       "      <td>887</td>\n",
       "    </tr>\n",
       "  </tbody>\n",
       "</table>\n",
       "</div>"
      ],
      "text/plain": [
       "              Cust Id  Months Since Last Buy  Spend Category  Spend Numeric  \\\n",
       "New Customer                                                                  \n",
       "0                 860                    860             860            860   \n",
       "1                 887                    887             887            887   \n",
       "\n",
       "              Mens Merchandise  Womens Merchandise  Area  Purchase Channel  \\\n",
       "New Customer                                                                 \n",
       "0                          860                 860   858               860   \n",
       "1                          887                 887   885               887   \n",
       "\n",
       "              Visited Website  Sale Made  \n",
       "New Customer                              \n",
       "0                         860        860  \n",
       "1                         887        887  "
      ]
     },
     "execution_count": 29,
     "metadata": {},
     "output_type": "execute_result"
    }
   ],
   "source": [
    "#Making a new dataframe by applying Groupby function according to New Customer\n",
    "df_new=df.groupby([\"New Customer\"])\n",
    "df_new.count()"
   ]
  },
  {
   "cell_type": "code",
   "execution_count": 30,
   "metadata": {},
   "outputs": [
    {
     "data": {
      "image/png": "[encoded data removed]",
      "text/plain": [
       "<Figure size 576x576 with 1 Axes>"
      ]
     },
     "metadata": {},
     "output_type": "display_data"
    }
   ],
   "source": [
    "#Code for construction of Pie Chart of New And Old Customer\n",
    "plt.figure(figsize=(8,8))\n",
    "plt.title(\"NEW AND OLD CUSTOMER\")\n",
    "plt.pie(df_new.count()[\"Cust Id\"], labels = {\"OLD CUSTOMER\":1,\"NEW CUSTOMER\":2,}, autopct = \"%1.1f%%\")\n",
    "plt.show()"
   ]
  },
  {
   "cell_type": "markdown",
   "metadata": {},
   "source": [
    "### _OBSERVATIONS:_ The dataset contains almost equal mix of old and new customers. "
   ]
  },
  {
   "cell_type": "markdown",
   "metadata": {},
   "source": [
    "## _3.CUSTOMER BY CHANNELS:_"
   ]
  },
  {
   "cell_type": "code",
   "execution_count": 31,
   "metadata": {},
   "outputs": [
    {
     "data": {
      "text/html": [
       "<div>\n",
       "<style scoped>\n",
       "    .dataframe tbody tr th:only-of-type {\n",
       "        vertical-align: middle;\n",
       "    }\n",
       "\n",
       "    .dataframe tbody tr th {\n",
       "        vertical-align: top;\n",
       "    }\n",
       "\n",
       "    .dataframe thead th {\n",
       "        text-align: right;\n",
       "    }\n",
       "</style>\n",
       "<table border=\"1\" class=\"dataframe\">\n",
       "  <thead>\n",
       "    <tr style=\"text-align: right;\">\n",
       "      <th></th>\n",
       "      <th>Cust Id</th>\n",
       "      <th>Months Since Last Buy</th>\n",
       "      <th>Spend Category</th>\n",
       "      <th>Spend Numeric</th>\n",
       "      <th>Mens Merchandise</th>\n",
       "      <th>Womens Merchandise</th>\n",
       "      <th>Area</th>\n",
       "      <th>New Customer</th>\n",
       "      <th>Visited Website</th>\n",
       "      <th>Sale Made</th>\n",
       "    </tr>\n",
       "    <tr>\n",
       "      <th>Purchase Channel</th>\n",
       "      <th></th>\n",
       "      <th></th>\n",
       "      <th></th>\n",
       "      <th></th>\n",
       "      <th></th>\n",
       "      <th></th>\n",
       "      <th></th>\n",
       "      <th></th>\n",
       "      <th></th>\n",
       "      <th></th>\n",
       "    </tr>\n",
       "  </thead>\n",
       "  <tbody>\n",
       "    <tr>\n",
       "      <th>Multichannel</th>\n",
       "      <td>209</td>\n",
       "      <td>209</td>\n",
       "      <td>209</td>\n",
       "      <td>209</td>\n",
       "      <td>209</td>\n",
       "      <td>209</td>\n",
       "      <td>209</td>\n",
       "      <td>209</td>\n",
       "      <td>209</td>\n",
       "      <td>209</td>\n",
       "    </tr>\n",
       "    <tr>\n",
       "      <th>Phone</th>\n",
       "      <td>760</td>\n",
       "      <td>760</td>\n",
       "      <td>760</td>\n",
       "      <td>760</td>\n",
       "      <td>760</td>\n",
       "      <td>760</td>\n",
       "      <td>759</td>\n",
       "      <td>760</td>\n",
       "      <td>760</td>\n",
       "      <td>760</td>\n",
       "    </tr>\n",
       "    <tr>\n",
       "      <th>Web</th>\n",
       "      <td>778</td>\n",
       "      <td>778</td>\n",
       "      <td>778</td>\n",
       "      <td>778</td>\n",
       "      <td>778</td>\n",
       "      <td>778</td>\n",
       "      <td>775</td>\n",
       "      <td>778</td>\n",
       "      <td>778</td>\n",
       "      <td>778</td>\n",
       "    </tr>\n",
       "  </tbody>\n",
       "</table>\n",
       "</div>"
      ],
      "text/plain": [
       "                  Cust Id  Months Since Last Buy  Spend Category  \\\n",
       "Purchase Channel                                                   \n",
       "Multichannel          209                    209             209   \n",
       "Phone                 760                    760             760   \n",
       "Web                   778                    778             778   \n",
       "\n",
       "                  Spend Numeric  Mens Merchandise  Womens Merchandise  Area  \\\n",
       "Purchase Channel                                                              \n",
       "Multichannel                209               209                 209   209   \n",
       "Phone                       760               760                 760   759   \n",
       "Web                         778               778                 778   775   \n",
       "\n",
       "                  New Customer  Visited Website  Sale Made  \n",
       "Purchase Channel                                            \n",
       "Multichannel               209              209        209  \n",
       "Phone                      760              760        760  \n",
       "Web                        778              778        778  "
      ]
     },
     "execution_count": 31,
     "metadata": {},
     "output_type": "execute_result"
    }
   ],
   "source": [
    "#Making a new dataframe by applying Groupby function according to Purchase Channel\n",
    "df_ch=df.groupby([\"Purchase Channel\"])\n",
    "df_ch.count()"
   ]
  },
  {
   "cell_type": "code",
   "execution_count": 32,
   "metadata": {},
   "outputs": [
    {
     "data": {
      "image/png": "[encoded data removed]",
      "text/plain": [
       "<Figure size 576x576 with 1 Axes>"
      ]
     },
     "metadata": {},
     "output_type": "display_data"
    }
   ],
   "source": [
    "#Code for construction of Pie Chart of Customer By Channel\n",
    "plt.figure(figsize=(8,8))\n",
    "plt.title(\"CUSTOMER BY CHANNEL\")\n",
    "plt.pie(df_ch.count()[\"Cust Id\"], labels = {\"MULTICHANNEL\":1,\"PHONE\":2,\"WEB\":3}, autopct = \"%1.1f%%\")\n",
    "plt.show()"
   ]
  },
  {
   "cell_type": "markdown",
   "metadata": {},
   "source": [
    "### _OBSERVATIONS:_ This dataset contains customers using the almost equal mix of using the phone or web channels to make a buy. "
   ]
  },
  {
   "cell_type": "markdown",
   "metadata": {},
   "source": [
    "## _4.CUSTOMER VISITED WEBSITE:_"
   ]
  },
  {
   "cell_type": "code",
   "execution_count": 33,
   "metadata": {},
   "outputs": [
    {
     "data": {
      "text/html": [
       "<div>\n",
       "<style scoped>\n",
       "    .dataframe tbody tr th:only-of-type {\n",
       "        vertical-align: middle;\n",
       "    }\n",
       "\n",
       "    .dataframe tbody tr th {\n",
       "        vertical-align: top;\n",
       "    }\n",
       "\n",
       "    .dataframe thead th {\n",
       "        text-align: right;\n",
       "    }\n",
       "</style>\n",
       "<table border=\"1\" class=\"dataframe\">\n",
       "  <thead>\n",
       "    <tr style=\"text-align: right;\">\n",
       "      <th></th>\n",
       "      <th>Cust Id</th>\n",
       "      <th>Months Since Last Buy</th>\n",
       "      <th>Spend Category</th>\n",
       "      <th>Spend Numeric</th>\n",
       "      <th>Mens Merchandise</th>\n",
       "      <th>Womens Merchandise</th>\n",
       "      <th>Area</th>\n",
       "      <th>New Customer</th>\n",
       "      <th>Purchase Channel</th>\n",
       "      <th>Sale Made</th>\n",
       "    </tr>\n",
       "    <tr>\n",
       "      <th>Visited Website</th>\n",
       "      <th></th>\n",
       "      <th></th>\n",
       "      <th></th>\n",
       "      <th></th>\n",
       "      <th></th>\n",
       "      <th></th>\n",
       "      <th></th>\n",
       "      <th></th>\n",
       "      <th></th>\n",
       "      <th></th>\n",
       "    </tr>\n",
       "  </thead>\n",
       "  <tbody>\n",
       "    <tr>\n",
       "      <th>0</th>\n",
       "      <td>1237</td>\n",
       "      <td>1237</td>\n",
       "      <td>1237</td>\n",
       "      <td>1237</td>\n",
       "      <td>1237</td>\n",
       "      <td>1237</td>\n",
       "      <td>1234</td>\n",
       "      <td>1237</td>\n",
       "      <td>1237</td>\n",
       "      <td>1237</td>\n",
       "    </tr>\n",
       "    <tr>\n",
       "      <th>1</th>\n",
       "      <td>510</td>\n",
       "      <td>510</td>\n",
       "      <td>510</td>\n",
       "      <td>510</td>\n",
       "      <td>510</td>\n",
       "      <td>510</td>\n",
       "      <td>509</td>\n",
       "      <td>510</td>\n",
       "      <td>510</td>\n",
       "      <td>510</td>\n",
       "    </tr>\n",
       "  </tbody>\n",
       "</table>\n",
       "</div>"
      ],
      "text/plain": [
       "                 Cust Id  Months Since Last Buy  Spend Category  \\\n",
       "Visited Website                                                   \n",
       "0                   1237                   1237            1237   \n",
       "1                    510                    510             510   \n",
       "\n",
       "                 Spend Numeric  Mens Merchandise  Womens Merchandise  Area  \\\n",
       "Visited Website                                                              \n",
       "0                         1237              1237                1237  1234   \n",
       "1                          510               510                 510   509   \n",
       "\n",
       "                 New Customer  Purchase Channel  Sale Made  \n",
       "Visited Website                                             \n",
       "0                        1237              1237       1237  \n",
       "1                         510               510        510  "
      ]
     },
     "execution_count": 33,
     "metadata": {},
     "output_type": "execute_result"
    }
   ],
   "source": [
    "#Making a new dataframe by applying Groupby function according to Visited Website\n",
    "df_web=df.groupby([\"Visited Website\"])\n",
    "df_web.count()"
   ]
  },
  {
   "cell_type": "code",
   "execution_count": 34,
   "metadata": {},
   "outputs": [
    {
     "data": {
      "image/png": "[encoded data removed]",
      "text/plain": [
       "<Figure size 576x576 with 1 Axes>"
      ]
     },
     "metadata": {},
     "output_type": "display_data"
    }
   ],
   "source": [
    "#Code for construction of Pie Chart of Customer Visited Website\n",
    "plt.figure(figsize=(8,8))\n",
    "plt.title(\"CUSTOMER VISITED WEBSITE\")\n",
    "plt.pie(df_web.count()[\"Cust Id\"], labels = {\"NOT VISITED\":1,\"VISITED\":2}, autopct = \"%1.1f%%\")\n",
    "plt.show()"
   ]
  },
  {
   "cell_type": "markdown",
   "metadata": {},
   "source": [
    "### _OBSERVATIONS:_  This dataset contains customers where most of them have not visited web site."
   ]
  },
  {
   "cell_type": "markdown",
   "metadata": {},
   "source": [
    "## _5.CUSTOMER BY SALE MADE:_"
   ]
  },
  {
   "cell_type": "code",
   "execution_count": 35,
   "metadata": {},
   "outputs": [
    {
     "data": {
      "text/html": [
       "<div>\n",
       "<style scoped>\n",
       "    .dataframe tbody tr th:only-of-type {\n",
       "        vertical-align: middle;\n",
       "    }\n",
       "\n",
       "    .dataframe tbody tr th {\n",
       "        vertical-align: top;\n",
       "    }\n",
       "\n",
       "    .dataframe thead th {\n",
       "        text-align: right;\n",
       "    }\n",
       "</style>\n",
       "<table border=\"1\" class=\"dataframe\">\n",
       "  <thead>\n",
       "    <tr style=\"text-align: right;\">\n",
       "      <th></th>\n",
       "      <th>Cust Id</th>\n",
       "      <th>Months Since Last Buy</th>\n",
       "      <th>Spend Category</th>\n",
       "      <th>Spend Numeric</th>\n",
       "      <th>Mens Merchandise</th>\n",
       "      <th>Womens Merchandise</th>\n",
       "      <th>Area</th>\n",
       "      <th>New Customer</th>\n",
       "      <th>Purchase Channel</th>\n",
       "      <th>Visited Website</th>\n",
       "    </tr>\n",
       "    <tr>\n",
       "      <th>Sale Made</th>\n",
       "      <th></th>\n",
       "      <th></th>\n",
       "      <th></th>\n",
       "      <th></th>\n",
       "      <th></th>\n",
       "      <th></th>\n",
       "      <th></th>\n",
       "      <th></th>\n",
       "      <th></th>\n",
       "      <th></th>\n",
       "    </tr>\n",
       "  </thead>\n",
       "  <tbody>\n",
       "    <tr>\n",
       "      <th>0</th>\n",
       "      <td>1366</td>\n",
       "      <td>1366</td>\n",
       "      <td>1366</td>\n",
       "      <td>1366</td>\n",
       "      <td>1366</td>\n",
       "      <td>1366</td>\n",
       "      <td>1362</td>\n",
       "      <td>1366</td>\n",
       "      <td>1366</td>\n",
       "      <td>1366</td>\n",
       "    </tr>\n",
       "    <tr>\n",
       "      <th>1</th>\n",
       "      <td>381</td>\n",
       "      <td>381</td>\n",
       "      <td>381</td>\n",
       "      <td>381</td>\n",
       "      <td>381</td>\n",
       "      <td>381</td>\n",
       "      <td>381</td>\n",
       "      <td>381</td>\n",
       "      <td>381</td>\n",
       "      <td>381</td>\n",
       "    </tr>\n",
       "  </tbody>\n",
       "</table>\n",
       "</div>"
      ],
      "text/plain": [
       "           Cust Id  Months Since Last Buy  Spend Category  Spend Numeric  \\\n",
       "Sale Made                                                                  \n",
       "0             1366                   1366            1366           1366   \n",
       "1              381                    381             381            381   \n",
       "\n",
       "           Mens Merchandise  Womens Merchandise  Area  New Customer  \\\n",
       "Sale Made                                                             \n",
       "0                      1366                1366  1362          1366   \n",
       "1                       381                 381   381           381   \n",
       "\n",
       "           Purchase Channel  Visited Website  \n",
       "Sale Made                                     \n",
       "0                      1366             1366  \n",
       "1                       381              381  "
      ]
     },
     "execution_count": 35,
     "metadata": {},
     "output_type": "execute_result"
    }
   ],
   "source": [
    "#Making a new dataframe by applying Groupby function according to Sale Made\n",
    "df_sale=df.groupby([\"Sale Made\"])\n",
    "df_sale.count()"
   ]
  },
  {
   "cell_type": "code",
   "execution_count": 36,
   "metadata": {},
   "outputs": [
    {
     "data": {
      "image/png": "[encoded data removed]",
      "text/plain": [
       "<Figure size 576x576 with 1 Axes>"
      ]
     },
     "metadata": {},
     "output_type": "display_data"
    }
   ],
   "source": [
    "#Code for construction of Pie Chart of Customer By Sale Made\n",
    "plt.figure(figsize=(8,8))\n",
    "plt.title(\"CUSTOMER BY SALE MADE\")\n",
    "plt.pie(df_sale.count()[\"Cust Id\"], labels = {\"NO SALE MADE\":1,\"SALE MADE\":2}, autopct = \"%1.1f%%\")\n",
    "plt.show()"
   ]
  },
  {
   "cell_type": "code",
   "execution_count": 37,
   "metadata": {},
   "outputs": [
    {
     "data": {
      "text/plain": [
       "<matplotlib.axes._subplots.AxesSubplot at 0x569e61b1d0>"
      ]
     },
     "execution_count": 37,
     "metadata": {},
     "output_type": "execute_result"
    },
    {
     "data": {
      "image/png": "[encoded data removed]",
      "text/plain": [
       "<Figure size 720x720 with 1 Axes>"
      ]
     },
     "metadata": {
      "needs_background": "light"
     },
     "output_type": "display_data"
    }
   ],
   "source": [
    "#Code for construction of Stacked Bar Chart of Customer who made sale based on their Spend Category\n",
    "df.groupby([\"Spend Category\",\"Sale Made\"]).size().unstack().plot(kind = \"bar\", stacked = True,figsize=(10,10))\n"
   ]
  },
  {
   "cell_type": "code",
   "execution_count": 38,
   "metadata": {},
   "outputs": [
    {
     "data": {
      "text/plain": [
       "<matplotlib.axes._subplots.AxesSubplot at 0x569e5ad7f0>"
      ]
     },
     "execution_count": 38,
     "metadata": {},
     "output_type": "execute_result"
    },
    {
     "data": {
      "image/png": "[encoded data removed]",
      "text/plain": [
       "<Figure size 720x720 with 1 Axes>"
      ]
     },
     "metadata": {
      "needs_background": "light"
     },
     "output_type": "display_data"
    }
   ],
   "source": [
    "#Code for construction of Stacked Bar Chart of Customer who made sale based on their Months since last buy\n",
    "df.groupby([\"Months Since Last Buy\",\"Sale Made\"]).size().unstack().plot(kind = \"bar\", stacked = True,figsize=(10,10))\n"
   ]
  },
  {
   "cell_type": "code",
   "execution_count": 39,
   "metadata": {},
   "outputs": [
    {
     "data": {
      "text/plain": [
       "<matplotlib.axes._subplots.AxesSubplot at 0x569e5b8b70>"
      ]
     },
     "execution_count": 39,
     "metadata": {},
     "output_type": "execute_result"
    },
    {
     "data": {
      "image/png": "[encoded data removed]",
      "text/plain": [
       "<Figure size 720x720 with 1 Axes>"
      ]
     },
     "metadata": {
      "needs_background": "light"
     },
     "output_type": "display_data"
    }
   ],
   "source": [
    "#Code for construction of Stacked Bar Chart of Customer who made sale based on wheather they buy Mens merchandise or not\n",
    "df.groupby([\"Mens Merchandise\",\"Sale Made\"]).size().unstack().plot(kind = \"bar\", stacked = True,figsize=(10,10))\n"
   ]
  },
  {
   "cell_type": "code",
   "execution_count": 40,
   "metadata": {},
   "outputs": [
    {
     "data": {
      "text/plain": [
       "<matplotlib.axes._subplots.AxesSubplot at 0x569e5c6828>"
      ]
     },
     "execution_count": 40,
     "metadata": {},
     "output_type": "execute_result"
    },
    {
     "data": {
      "image/png": "[encoded data removed]",
      "text/plain": [
       "<Figure size 720x720 with 1 Axes>"
      ]
     },
     "metadata": {
      "needs_background": "light"
     },
     "output_type": "display_data"
    }
   ],
   "source": [
    "#Code for construction of Stacked Bar Chart of Customer who made sale based on wheather they buy Womens Merchandise or not\n",
    "df.groupby([\"Womens Merchandise\",\"Sale Made\"]).size().unstack().plot(kind = \"bar\", stacked = True,figsize=(10,10))\n"
   ]
  },
  {
   "cell_type": "code",
   "execution_count": 41,
   "metadata": {},
   "outputs": [
    {
     "data": {
      "text/plain": [
       "<matplotlib.axes._subplots.AxesSubplot at 0x56a8187cc0>"
      ]
     },
     "execution_count": 41,
     "metadata": {},
     "output_type": "execute_result"
    },
    {
     "data": {
      "image/png": "[encoded data removed]",
      "text/plain": [
       "<Figure size 720x720 with 1 Axes>"
      ]
     },
     "metadata": {
      "needs_background": "light"
     },
     "output_type": "display_data"
    }
   ],
   "source": [
    "#Code for construction of Stacked Bar Chart of Customer who made sale based on their Area\n",
    "df.groupby([\"Area\",\"Sale Made\"]).size().unstack().plot(kind = \"bar\", stacked = True,figsize=(10,10))\n"
   ]
  },
  {
   "cell_type": "code",
   "execution_count": 42,
   "metadata": {},
   "outputs": [
    {
     "data": {
      "text/plain": [
       "<matplotlib.axes._subplots.AxesSubplot at 0x56ac1cf358>"
      ]
     },
     "execution_count": 42,
     "metadata": {},
     "output_type": "execute_result"
    },
    {
     "data": {
      "image/png": "[encoded data removed]",
      "text/plain": [
       "<Figure size 720x720 with 1 Axes>"
      ]
     },
     "metadata": {
      "needs_background": "light"
     },
     "output_type": "display_data"
    }
   ],
   "source": [
    "#Code for construction of Stacked Bar Chart of Customer who made sale based on wheather they are new customer or not\n",
    "df.groupby([\"New Customer\",\"Sale Made\"]).size().unstack().plot(kind = \"bar\", stacked = True,figsize=(10,10))"
   ]
  },
  {
   "cell_type": "code",
   "execution_count": 43,
   "metadata": {},
   "outputs": [
    {
     "data": {
      "text/plain": [
       "<matplotlib.axes._subplots.AxesSubplot at 0x569e71cda0>"
      ]
     },
     "execution_count": 43,
     "metadata": {},
     "output_type": "execute_result"
    },
    {
     "data": {
      "image/png": "[encoded data removed]",
      "text/plain": [
       "<Figure size 720x720 with 1 Axes>"
      ]
     },
     "metadata": {
      "needs_background": "light"
     },
     "output_type": "display_data"
    }
   ],
   "source": [
    "#Code for construction of Stacked Bar Chart of Customer who made sale based on their Purchase Chaneel\n",
    "df.groupby([\"Purchase Channel\",\"Sale Made\"]).size().unstack().plot(kind = \"bar\", stacked = True,figsize=(10,10))\n"
   ]
  },
  {
   "cell_type": "code",
   "execution_count": 44,
   "metadata": {},
   "outputs": [
    {
     "data": {
      "text/plain": [
       "<matplotlib.axes._subplots.AxesSubplot at 0x56a8450cc0>"
      ]
     },
     "execution_count": 44,
     "metadata": {},
     "output_type": "execute_result"
    },
    {
     "data": {
      "image/png": "[encoded data removed]",
      "text/plain": [
       "<Figure size 720x720 with 1 Axes>"
      ]
     },
     "metadata": {
      "needs_background": "light"
     },
     "output_type": "display_data"
    }
   ],
   "source": [
    "#Code for construction of Stacked Bar Chart of Area from which Customer belongs based on their Spend Category\n",
    "df.groupby([\"Spend Category\",\"Area\"]).size().unstack().plot(kind = \"bar\", stacked = True,figsize=(10,10))\n"
   ]
  },
  {
   "cell_type": "code",
   "execution_count": 45,
   "metadata": {},
   "outputs": [
    {
     "data": {
      "text/plain": [
       "(1747, 11)"
      ]
     },
     "execution_count": 45,
     "metadata": {},
     "output_type": "execute_result"
    }
   ],
   "source": [
    "#To find out dimension of the given data \n",
    "df.shape"
   ]
  },
  {
   "cell_type": "code",
   "execution_count": 46,
   "metadata": {},
   "outputs": [
    {
     "data": {
      "text/plain": [
       "<matplotlib.axes._subplots.AxesSubplot at 0x56ac0b92b0>"
      ]
     },
     "execution_count": 46,
     "metadata": {},
     "output_type": "execute_result"
    },
    {
     "data": {
      "image/png": "[encoded data removed]",
      "text/plain": [
       "<Figure size 576x576 with 1 Axes>"
      ]
     },
     "metadata": {
      "needs_background": "light"
     },
     "output_type": "display_data"
    }
   ],
   "source": [
    "#Code for construction of Box Chart Sale Made by the Customer based on their Months since last buy\n",
    "df.boxplot(by='Sale Made',column=['Months Since Last Buy'],grid=False,figsize=(8,8))"
   ]
  },
  {
   "cell_type": "code",
   "execution_count": 47,
   "metadata": {},
   "outputs": [
    {
     "data": {
      "text/plain": [
       "<matplotlib.axes._subplots.AxesSubplot at 0x56ac0b9128>"
      ]
     },
     "execution_count": 47,
     "metadata": {},
     "output_type": "execute_result"
    },
    {
     "data": {
      "image/png": "[encoded data removed]",
      "text/plain": [
       "<Figure size 576x576 with 1 Axes>"
      ]
     },
     "metadata": {
      "needs_background": "light"
     },
     "output_type": "display_data"
    }
   ],
   "source": [
    "#Code for construction of Box Chart Sale Made by the Customer based on their Spend Numeric Value\n",
    "df.boxplot(by='Sale Made',column=['Spend Numeric'],grid=False,figsize=(8,8))"
   ]
  },
  {
   "cell_type": "markdown",
   "metadata": {},
   "source": [
    "# DATA ANALYSIS OF E COMMERCE COMPANY:\n",
    "\n",
    "\n",
    "1. Most of the Customers belong to Urban and Surburban Areas.Thus Rural Campaigns needs to be improvised to get better results.\n",
    "     (See Pie chart of Customer By Area)\n",
    "2. Peson who recently made a buy has greater chance of buying the product again.(Box PLot of Month since last buy vs Sale Made)\n",
    "3. Most of the Customers spend less than 350 dollars(Stacked Bar Graph of Amount Spent vs Sale Made)\n",
    "4. Customers Spending less than 350 dollars has greater chances of buying the product.(Box Plot of Amount Spent vs Sale Made)"
   ]
  },
  {
   "cell_type": "markdown",
   "metadata": {},
   "source": [
    "## FOR ANY QUERIES, CONTACT ME AT  vikram999sri@gmail.com"
   ]
  },
  {
   "cell_type": "code",
   "execution_count": null,
   "metadata": {},
   "outputs": [],
   "source": []
  }
 ],
 "metadata": {
  "kernelspec": {
   "display_name": "Python 3",
   "language": "python",
   "name": "python3"
  },
  "language_info": {
   "codemirror_mode": {
    "name": "ipython",
    "version": 3
   },
   "file_extension": ".py",
   "mimetype": "text/x-python",
   "name": "python",
   "nbconvert_exporter": "python",
   "pygments_lexer": "ipython3",
   "version": "3.7.2"
  }
 },
 "nbformat": 4,
 "nbformat_minor": 2
}
